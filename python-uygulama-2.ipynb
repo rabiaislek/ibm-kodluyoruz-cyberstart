{
 "cells": [
  {
   "cell_type": "code",
   "execution_count": 63,
   "id": "fde25cae-e42b-4220-8978-5ddedd970803",
   "metadata": {},
   "outputs": [],
   "source": [
    "import math"
   ]
  },
  {
   "cell_type": "code",
   "execution_count": 64,
   "id": "e82dd3c0-bf2d-407e-862d-2e3dc7d87d57",
   "metadata": {},
   "outputs": [
    {
     "name": "stdout",
     "output_type": "stream",
     "text": [
      "[(1, 2), (4, 6), (7, 8), (3, 1)]\n"
     ]
    }
   ],
   "source": [
    "points = [(1, 2), (4, 6), (7, 8), (3, 1)]\n",
    "print(points)"
   ]
  },
  {
   "cell_type": "code",
   "execution_count": 65,
   "id": "8b6c4faf-0f70-4195-879b-c87d92fa7be5",
   "metadata": {},
   "outputs": [],
   "source": [
    "def euclideanDistance(point1, point2):\n",
    "    return math.sqrt((point2[0] - point1[0])**2 + (point2[1] - point1[1])**2)"
   ]
  },
  {
   "cell_type": "code",
   "execution_count": 66,
   "id": "c1d14440-e51f-45fe-b6c9-2367301190e0",
   "metadata": {},
   "outputs": [],
   "source": [
    "distances = []\n",
    "for i in range(len(points)):\n",
    "    for j in range(i + 1, len(points)):\n",
    "        dist = euclideanDistance(points[i], points[j])\n",
    "        distances.append(dist)\n",
    "     "
   ]
  },
  {
   "cell_type": "code",
   "execution_count": 67,
   "id": "5d016f57-1eb8-479a-ad0b-8ff884bcfacb",
   "metadata": {},
   "outputs": [
    {
     "name": "stdout",
     "output_type": "stream",
     "text": [
      "Minimum mesafe: 2.23606797749979\n"
     ]
    }
   ],
   "source": [
    "min_distance = min(distances)\n",
    "print(\"Minimum mesafe:\", min_distance)"
   ]
  },
  {
   "cell_type": "code",
   "execution_count": null,
   "id": "ef8b5848-c096-45f3-a40d-7a276fc76589",
   "metadata": {},
   "outputs": [],
   "source": []
  }
 ],
 "metadata": {
  "kernelspec": {
   "display_name": "Python 3 (ipykernel)",
   "language": "python",
   "name": "python3"
  },
  "language_info": {
   "codemirror_mode": {
    "name": "ipython",
    "version": 3
   },
   "file_extension": ".py",
   "mimetype": "text/x-python",
   "name": "python",
   "nbconvert_exporter": "python",
   "pygments_lexer": "ipython3",
   "version": "3.11.7"
  }
 },
 "nbformat": 4,
 "nbformat_minor": 5
}
